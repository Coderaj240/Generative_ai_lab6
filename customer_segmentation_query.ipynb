{
 "cells": [
  {
   "cell_type": "code",
   "execution_count": 1,
   "id": "511695c3-71d1-4724-a16e-d41ce93cda59",
   "metadata": {},
   "outputs": [],
   "source": [
    "import sqlite3\n",
    "import pandas as pd\n",
    "import logging\n",
    "import os\n",
    "from datetime import datetime, timedelta\n"
   ]
  },
  {
   "cell_type": "code",
   "execution_count": 2,
   "id": "cbb779b5-a36e-45e0-ba1c-f4ce8dde619d",
   "metadata": {},
   "outputs": [],
   "source": [
    "user_activity = pd.read_csv(\"user_activity.csv\", parse_dates=[\"last_login_date\"])\n",
    "transactions = pd.read_csv(\"transactions.csv\", parse_dates=[\"transaction_date\"])\n",
    "user_preferences = pd.read_csv(\"user_preferences.csv\")"
   ]
  },
  {
   "cell_type": "code",
   "execution_count": 3,
   "id": "cb82d984-5129-4c5d-b1df-5e572c8b3dd6",
   "metadata": {},
   "outputs": [
    {
     "name": "stdout",
     "output_type": "stream",
     "text": [
      " user_activity validated.\n",
      " transactions validated.\n",
      " user_preferences validated.\n"
     ]
    }
   ],
   "source": [
    "# Validate Required Columns\n",
    "# -----------------------------\n",
    "def validate_columns(df, required_cols, name):\n",
    "    missing = set(required_cols) - set(df.columns)\n",
    "    if missing:\n",
    "        raise ValueError(f\" Missing columns in {name}: {missing}\")\n",
    "    print(f\" {name} validated.\")\n",
    "\n",
    "validate_columns(user_activity, [\"user_id\", \"last_login_date\", \"feature_usage_count\", \"account_type\"], \"user_activity\")\n",
    "validate_columns(transactions, [\"transaction_id\", \"user_id\", \"transaction_date\", \"amount\", \"platform\"], \"transactions\")\n",
    "validate_columns(user_preferences, [\"user_id\", \"communication_preference\", \"interface_theme\", \"notification_settings\"], \"user_preferences\")"
   ]
  },
  {
   "cell_type": "code",
   "execution_count": 4,
   "id": "ec423da5-96a4-4c31-848e-1ecf7fdd8d53",
   "metadata": {},
   "outputs": [],
   "source": [
    "# Create in-memory SQLite database\n",
    "conn = sqlite3.connect(\":memory:\")\n",
    "cursor = conn.cursor()\n"
   ]
  },
  {
   "cell_type": "code",
   "execution_count": 5,
   "id": "0c5e3570-0db6-4044-8a3c-7e7df5b58a58",
   "metadata": {},
   "outputs": [],
   "source": [
    "# Write dataframes to SQL tables\n",
    "user_activity.to_sql(\"user_activity\", conn, index=False, if_exists=\"replace\")\n",
    "transactions.to_sql(\"transactions\", conn, index=False, if_exists=\"replace\")\n",
    "user_preferences.to_sql(\"user_preferences\", conn, index=False, if_exists=\"replace\")\n",
    "\n",
    "logging.info(\" Data loaded into SQLite memory database.\")\n"
   ]
  },
  {
   "cell_type": "code",
   "execution_count": 7,
   "id": "fd7e0197-2e33-4446-bf48-ec30ac01648e",
   "metadata": {},
   "outputs": [
    {
     "name": "stdout",
     "output_type": "stream",
     "text": [
      "  user_id      last_login_date  feature_usage_count account_type\n",
      "0      u1  2025-07-25 00:00:00                   20      premium\n",
      "1      u3  2025-07-18 00:00:00                   12      premium\n",
      "2      u4  2025-07-01 00:00:00                    2        basic\n",
      "3      u6  2025-07-22 00:00:00                   17   enterprise\n",
      "4      u7  2025-07-10 00:00:00                    9      premium\n"
     ]
    }
   ],
   "source": [
    "# Step 1: Identify active users\n",
    "active_users = pd.read_sql_query(\"\"\"\n",
    "    SELECT *\n",
    "    FROM user_activity\n",
    "    WHERE DATE(last_login_date) >= DATE('now', '-30 days')\n",
    "\"\"\", conn)\n",
    "\n",
    "print(active_users)"
   ]
  },
  {
   "cell_type": "code",
   "execution_count": 10,
   "id": "b82fe63b-d248-4ec9-9fb0-a7f1ef929af4",
   "metadata": {},
   "outputs": [
    {
     "name": "stdout",
     "output_type": "stream",
     "text": [
      "  user_id  total_spend\n",
      "0      u6          700\n"
     ]
    }
   ],
   "source": [
    "# #Step 2: High-value customers among active users (top 20% spenders)\n",
    "top20_spending_query = pd.read_sql_query(\"\"\"\n",
    "WITH user_spending AS (\n",
    "    SELECT \n",
    "        user_id,\n",
    "        SUM(amount) AS total_spend\n",
    "    FROM transactions\n",
    "    GROUP BY user_id\n",
    "),\n",
    "spending_stats AS (\n",
    "    SELECT \n",
    "        total_spend\n",
    "    FROM user_spending\n",
    "    ORDER BY total_spend DESC\n",
    "),\n",
    "threshold AS (\n",
    "    SELECT \n",
    "        MIN(total_spend) AS top_20_threshold\n",
    "    FROM (\n",
    "        SELECT total_spend\n",
    "        FROM spending_stats\n",
    "        LIMIT CAST((SELECT COUNT(*) * 0.2 FROM user_spending) AS INT)\n",
    "    )\n",
    ")\n",
    "SELECT us.*\n",
    "FROM user_spending us\n",
    "JOIN threshold t ON us.total_spend >= t.top_20_threshold\n",
    "ORDER BY us.total_spend DESC;\n",
    "\"\"\", conn)\n",
    "\n",
    "print(top20_spending_query)\n"
   ]
  },
  {
   "cell_type": "code",
   "execution_count": 15,
   "id": "8cf8f68f-9d72-4983-8a88-1b996f092902",
   "metadata": {},
   "outputs": [
    {
     "name": "stdout",
     "output_type": "stream",
     "text": [
      "  communication_preference interface_theme notification_settings  user_count\n",
      "0                    email            dark              standard           1\n"
     ]
    }
   ],
   "source": [
    "#Step 3: User preference trends for high-value users\n",
    "#-- Aggregate user preferences\n",
    "user_pref_trends_query = pd.read_sql_query(\"\"\"\n",
    "WITH user_spending AS (\n",
    "    SELECT \n",
    "        user_id,\n",
    "        SUM(amount) AS total_spend\n",
    "    FROM transactions\n",
    "    GROUP BY user_id\n",
    "),\n",
    "spending_stats AS (\n",
    "    SELECT \n",
    "        total_spend\n",
    "    FROM user_spending\n",
    "    ORDER BY total_spend DESC\n",
    "),\n",
    "threshold AS (\n",
    "    SELECT \n",
    "        MIN(total_spend) AS top_20_threshold\n",
    "    FROM (\n",
    "        SELECT total_spend\n",
    "        FROM spending_stats\n",
    "        LIMIT CAST((SELECT COUNT(*) * 0.2 FROM user_spending) AS INT)\n",
    "    )\n",
    "),\n",
    "top_customers AS (\n",
    "    SELECT us.user_id\n",
    "    FROM user_spending us\n",
    "    JOIN threshold t ON us.total_spend >= t.top_20_threshold\n",
    ")\n",
    "SELECT \n",
    "    up.communication_preference,\n",
    "    up.interface_theme,\n",
    "    up.notification_settings,\n",
    "    COUNT(*) AS user_count\n",
    "FROM top_customers tc\n",
    "JOIN user_preferences up ON tc.user_id = up.user_id\n",
    "GROUP BY \n",
    "    up.communication_preference,\n",
    "    up.interface_theme,\n",
    "    up.notification_settings\n",
    "ORDER BY user_count DESC;\n",
    "\"\"\", conn)\n",
    "\n",
    "print(user_pref_trends_query)\n",
    "\n"
   ]
  },
  {
   "cell_type": "code",
   "execution_count": 16,
   "id": "34b2eab7-2150-4897-91ff-f347f2e9c631",
   "metadata": {},
   "outputs": [],
   "source": [
    "conn.close()"
   ]
  },
  {
   "cell_type": "code",
   "execution_count": null,
   "id": "d3942de5-1f4e-4bf0-b42e-3c140c4aa6b0",
   "metadata": {},
   "outputs": [],
   "source": []
  }
 ],
 "metadata": {
  "kernelspec": {
   "display_name": "Python 3 (ipykernel)",
   "language": "python",
   "name": "python3"
  },
  "language_info": {
   "codemirror_mode": {
    "name": "ipython",
    "version": 3
   },
   "file_extension": ".py",
   "mimetype": "text/x-python",
   "name": "python",
   "nbconvert_exporter": "python",
   "pygments_lexer": "ipython3",
   "version": "3.12.3"
  }
 },
 "nbformat": 4,
 "nbformat_minor": 5
}
